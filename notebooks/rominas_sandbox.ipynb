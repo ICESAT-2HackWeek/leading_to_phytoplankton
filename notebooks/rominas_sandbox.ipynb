{
 "cells": [
  {
   "cell_type": "code",
   "execution_count": 1,
   "metadata": {},
   "outputs": [],
   "source": [
    "import sys\n",
    "# from datetime import datetime as dt\n",
    "sys.path.append('../scripts/')\n",
    "from colocateddata import *"
   ]
  },
  {
   "cell_type": "code",
   "execution_count": 2,
   "metadata": {},
   "outputs": [
    {
     "name": "stdout",
     "output_type": "stream",
     "text": [
      "1997-01-11 00:00:00\n",
      "2020-06-16 00:00:00\n"
     ]
    }
   ],
   "source": [
    "time1 = dt.datetime(1997, 1, 11)\n",
    "time2 = dt.datetime(2020, 6, 16)\n",
    "print(time1)\n",
    "print(time2)"
   ]
  },
  {
   "cell_type": "code",
   "execution_count": 3,
   "metadata": {},
   "outputs": [
    {
     "name": "stdout",
     "output_type": "stream",
     "text": [
      "bounding box: [1, 2, 3, 4]\n",
      "Start time: 1997-01-11 00:00:00\n",
      "End time: 2020-06-16 00:00:00\n",
      "Datasets: No datasets have been added yet\n"
     ]
    }
   ],
   "source": [
    "dat = Colocateddata([1,2,3,4], time1, time2)\n",
    "print(dat)"
   ]
  },
  {
   "cell_type": "code",
   "execution_count": 4,
   "metadata": {},
   "outputs": [
    {
     "name": "stdout",
     "output_type": "stream",
     "text": [
      "Searching though ATL03\n",
      "Searching though Argo\n",
      "Error: Argo is not a supported dataset\n",
      "Permitted datasets are \n",
      "\tATL03, ATL07\n",
      "search complete\n",
      "<dataset_scripts.atl03.ATL03 object at 0x7f5a1874e610>\n"
     ]
    }
   ],
   "source": [
    "dat.init_dataset(['ATL03', 'Argo'])\n",
    "print(dat.datasets['ATL03'])"
   ]
  },
  {
   "cell_type": "code",
   "execution_count": 5,
   "metadata": {},
   "outputs": [],
   "source": [
    "dat.show_area_overlap()"
   ]
  },
  {
   "cell_type": "code",
   "execution_count": 6,
   "metadata": {},
   "outputs": [
    {
     "data": {
      "image/png": "[encoded data removed]",
      "text/plain": [
       "<Figure size 720x720 with 1 Axes>"
      ]
     },
     "metadata": {
      "needs_background": "light"
     },
     "output_type": "display_data"
    }
   ],
   "source": [
    "dat.datasets['ATL03'].visualize()"
   ]
  },
  {
   "cell_type": "code",
   "execution_count": 7,
   "metadata": {},
   "outputs": [],
   "source": [
    "# dat.datasets['ATL03'].download('path/to/out/file')"
   ]
  }
 ],
 "metadata": {
  "kernelspec": {
   "display_name": "Python [conda env:notebook] *",
   "language": "python",
   "name": "conda-env-notebook-py"
  },
  "language_info": {
   "codemirror_mode": {
    "name": "ipython",
    "version": 3
   },
   "file_extension": ".py",
   "mimetype": "text/x-python",
   "name": "python",
   "nbconvert_exporter": "python",
   "pygments_lexer": "ipython3",
   "version": "3.7.6"
  }
 },
 "nbformat": 4,
 "nbformat_minor": 4
}
