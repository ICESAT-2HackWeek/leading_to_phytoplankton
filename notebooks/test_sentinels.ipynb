{
 "cells": [
  {
   "cell_type": "markdown",
   "id": "earned-ceiling",
   "metadata": {},
   "source": [
    "# Test simple Sentinel search (non co-located)"
   ]
  },
  {
   "cell_type": "code",
   "execution_count": null,
   "id": "italian-court",
   "metadata": {},
   "outputs": [],
   "source": [
    "### path_to_phytoplankton\n",
    "%cd \"~/Documents/leading_to_phytoplankton/\"\n",
    "%config Completer.use_jedi = False"
   ]
  },
  {
   "cell_type": "code",
   "execution_count": null,
   "id": "private-applicant",
   "metadata": {},
   "outputs": [],
   "source": [
    "### Imports\n",
    "from scripts.dataset_scripts.sentinels import *\n",
    "import shapely.wkt as wkt\n",
    "import shapely.geometry as sg\n",
    "import pyproj"
   ]
  },
  {
   "cell_type": "code",
   "execution_count": null,
   "id": "golden-correspondence",
   "metadata": {},
   "outputs": [],
   "source": [
    "### Inputs\n",
    "\n",
    "## Create timeframe and shape\n",
    "timeframe = [\"2019-03-15 00:00:00\", \"2019-03-31 23:59:59\"]\n",
    "poly = sg.Polygon([(-140, 80), (-100, 80), (-100, 85), (-140, 85), (-140, 80)])\n",
    "\n",
    "## Sentinel API user and pwd\n",
    "usr = \"\"\n",
    "pwd = \"\"\n",
    "\n",
    "## Sentinel API query params example\n",
    "## full list of available keyword params at https://scihub.copernicus.eu/twiki/do/view/SciHubUserGuide/FullTextSearch?redirectedfrom=SciHubUserGuide.3FullTextSearch\n",
    "queryParamsS1 = {\n",
    "    'platformname':          'Sentinel-1',\n",
    "    'area_relation':         'Intersects',\n",
    "    'producttype':           'GRD',\n",
    "    'sensoroperationalmode': 'EW',\n",
    "}\n",
    "\n",
    "queryParamsS2 = {\n",
    "    'platformname':          'Sentinel-2',\n",
    "    'area_relation':         'Intersects',\n",
    "    'cloudcoverpercentage':  (0, 100),\n",
    "}"
   ]
  },
  {
   "cell_type": "code",
   "execution_count": null,
   "id": "freelance-desktop",
   "metadata": {},
   "outputs": [],
   "source": [
    "### Quesry Sentinel-1\n",
    "s1 = Sentinels(poly, timeframe)\n",
    "outS1 = s1.search_data(usr, pwd, queryParamsS1)"
   ]
  },
  {
   "cell_type": "code",
   "execution_count": null,
   "id": "impressed-begin",
   "metadata": {},
   "outputs": [],
   "source": [
    "list(outS1.keys())[:10]"
   ]
  },
  {
   "cell_type": "code",
   "execution_count": null,
   "id": "considered-memorabilia",
   "metadata": {},
   "outputs": [],
   "source": [
    "### Quesry Sentinel-2\n",
    "s2 = Sentinels(poly, timeframe)\n",
    "outS2 = s2.search_data(usr, pwd, queryParamsS2)"
   ]
  },
  {
   "cell_type": "code",
   "execution_count": null,
   "id": "brief-shooting",
   "metadata": {},
   "outputs": [],
   "source": [
    "list(outS2.keys())[:10]"
   ]
  },
  {
   "cell_type": "code",
   "execution_count": null,
   "id": "defensive-rocket",
   "metadata": {},
   "outputs": [],
   "source": []
  }
 ],
 "metadata": {
  "kernelspec": {
   "display_name": "icepyx",
   "language": "python",
   "name": "icepyx"
  },
  "language_info": {
   "codemirror_mode": {
    "name": "ipython",
    "version": 3
   },
   "file_extension": ".py",
   "mimetype": "text/x-python",
   "name": "python",
   "nbconvert_exporter": "python",
   "pygments_lexer": "ipython3",
   "version": "3.8.5"
  }
 },
 "nbformat": 4,
 "nbformat_minor": 5
}
