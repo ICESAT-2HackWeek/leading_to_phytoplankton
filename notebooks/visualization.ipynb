{
 "cells": [
  {
   "cell_type": "markdown",
   "metadata": {},
   "source": [
    "# Visualization of Coincident ICESat-2, Sentinel, and Argo Float Data\n",
    "\n",
    "ICESat-2 hackweek final project \n",
    "June 16, 2020  \n",
    "Nicole Abib"
   ]
  },
  {
   "cell_type": "code",
   "execution_count": 1,
   "metadata": {},
   "outputs": [],
   "source": [
    "import os\n",
    "from icepyx import icesat2data as ipd\n",
    "import rasterio\n",
    "from rasterio.plot import show\n",
    "import numpy as np\n",
    "import pandas as pd\n",
    "import matplotlib.pyplot as plt\n",
    "import h5py \n",
    "import sys  \n",
    "sys.path.insert(0, '/home/jovyan/leading_to_phytoplankton/scripts')\n",
    "import readers as rd\n",
    "import cartopy.crs as ccrs\n",
    "from astropy.time import Time\n",
    "import warnings\n",
    "warnings.filterwarnings('ignore')\n",
    "# magic function to enable interactive plotting\n",
    "%matplotlib widget "
   ]
  },
  {
   "cell_type": "code",
   "execution_count": 2,
   "metadata": {},
   "outputs": [],
   "source": [
    "# Define path to sample data\n",
    "data_loc='/home/jovyan/shared/leading_to_phytoplankton/'\n",
    "argo_fn = data_loc+'floats_highlats.csv'"
   ]
  },
  {
   "cell_type": "code",
   "execution_count": 3,
   "metadata": {
    "jupyter": {
     "source_hidden": true
    }
   },
   "outputs": [
    {
     "name": "stdout",
     "output_type": "stream",
     "text": [
      "-64.977,-155.98,2018,1,2,8,57,6.84,0.0041413,-0.0327,34.033,2.4624\n",
      "-64.977,-155.98,2018,1,2,8,57,10.58,0.0043545,-0.0316,34.033,2.5056\n",
      "-64.977,-155.98,2018,1,2,8,57,14.94,0.0041301,-0.0307,34.032,2.8152\n",
      "-64.977,-155.98,2018,1,2,8,57,20.97,0.0042085,-0.0785,34.036,2.628\n",
      "-64.977,-155.98,2018,1,2,8,57,26.04,0.0045563,-0.1061,34.037,3.0096\n",
      "-64.977,-155.98,2018,1,2,8,57,31.18,0.0047467,-0.2544,34.042,3.5136\n",
      "-64.977,-155.98,2018,1,2,8,57,35.67,0.0033291,-1.6271,34.186,3.1104\n",
      "-64.977,-155.98,2018,1,2,8,57,40.21,0.0029811,-1.703,34.196,3.5064\n",
      "-64.977,-155.98,2018,1,2,8,57,45.24,0.0036319,-1.6948,34.2,3.708\n",
      "-64.977,-155.98,2018,1,2,8,57,50.29,0.0020383,-1.7466,34.206,2.412\n"
     ]
    }
   ],
   "source": [
    "# Quick check of csv file contents\n",
    "!head $argo_fn"
   ]
  },
  {
   "cell_type": "code",
   "execution_count": 4,
   "metadata": {
    "jupyter": {
     "source_hidden": true
    }
   },
   "outputs": [
    {
     "data": {
      "text/html": [
       "<div>\n",
       "<style scoped>\n",
       "    .dataframe tbody tr th:only-of-type {\n",
       "        vertical-align: middle;\n",
       "    }\n",
       "\n",
       "    .dataframe tbody tr th {\n",
       "        vertical-align: top;\n",
       "    }\n",
       "\n",
       "    .dataframe thead th {\n",
       "        text-align: right;\n",
       "    }\n",
       "</style>\n",
       "<table border=\"1\" class=\"dataframe\">\n",
       "  <thead>\n",
       "    <tr style=\"text-align: right;\">\n",
       "      <th></th>\n",
       "      <th>lat</th>\n",
       "      <th>lon</th>\n",
       "      <th>year</th>\n",
       "      <th>month</th>\n",
       "      <th>day</th>\n",
       "      <th>hour</th>\n",
       "      <th>minute</th>\n",
       "      <th>Depth (m)</th>\n",
       "      <th>bbp (700 nm)</th>\n",
       "      <th>temperature</th>\n",
       "      <th>salinity</th>\n",
       "      <th>chlorophyll</th>\n",
       "    </tr>\n",
       "  </thead>\n",
       "  <tbody>\n",
       "    <tr>\n",
       "      <th>0</th>\n",
       "      <td>-64.977</td>\n",
       "      <td>-155.980</td>\n",
       "      <td>2018</td>\n",
       "      <td>1.0</td>\n",
       "      <td>2.0</td>\n",
       "      <td>8.0</td>\n",
       "      <td>57.0</td>\n",
       "      <td>10.58</td>\n",
       "      <td>0.004354</td>\n",
       "      <td>-0.0316</td>\n",
       "      <td>34.033</td>\n",
       "      <td>2.50560</td>\n",
       "    </tr>\n",
       "    <tr>\n",
       "      <th>1</th>\n",
       "      <td>-64.977</td>\n",
       "      <td>-155.980</td>\n",
       "      <td>2018</td>\n",
       "      <td>1.0</td>\n",
       "      <td>2.0</td>\n",
       "      <td>8.0</td>\n",
       "      <td>57.0</td>\n",
       "      <td>14.94</td>\n",
       "      <td>0.004130</td>\n",
       "      <td>-0.0307</td>\n",
       "      <td>34.032</td>\n",
       "      <td>2.81520</td>\n",
       "    </tr>\n",
       "    <tr>\n",
       "      <th>2</th>\n",
       "      <td>-64.977</td>\n",
       "      <td>-155.980</td>\n",
       "      <td>2018</td>\n",
       "      <td>1.0</td>\n",
       "      <td>2.0</td>\n",
       "      <td>8.0</td>\n",
       "      <td>57.0</td>\n",
       "      <td>20.97</td>\n",
       "      <td>0.004209</td>\n",
       "      <td>-0.0785</td>\n",
       "      <td>34.036</td>\n",
       "      <td>2.62800</td>\n",
       "    </tr>\n",
       "    <tr>\n",
       "      <th>3</th>\n",
       "      <td>-64.977</td>\n",
       "      <td>-155.980</td>\n",
       "      <td>2018</td>\n",
       "      <td>1.0</td>\n",
       "      <td>2.0</td>\n",
       "      <td>8.0</td>\n",
       "      <td>57.0</td>\n",
       "      <td>26.04</td>\n",
       "      <td>0.004556</td>\n",
       "      <td>-0.1061</td>\n",
       "      <td>34.037</td>\n",
       "      <td>3.00960</td>\n",
       "    </tr>\n",
       "    <tr>\n",
       "      <th>4</th>\n",
       "      <td>-64.977</td>\n",
       "      <td>-155.980</td>\n",
       "      <td>2018</td>\n",
       "      <td>1.0</td>\n",
       "      <td>2.0</td>\n",
       "      <td>8.0</td>\n",
       "      <td>57.0</td>\n",
       "      <td>31.18</td>\n",
       "      <td>0.004747</td>\n",
       "      <td>-0.2544</td>\n",
       "      <td>34.042</td>\n",
       "      <td>3.51360</td>\n",
       "    </tr>\n",
       "    <tr>\n",
       "      <th>...</th>\n",
       "      <td>...</td>\n",
       "      <td>...</td>\n",
       "      <td>...</td>\n",
       "      <td>...</td>\n",
       "      <td>...</td>\n",
       "      <td>...</td>\n",
       "      <td>...</td>\n",
       "      <td>...</td>\n",
       "      <td>...</td>\n",
       "      <td>...</td>\n",
       "      <td>...</td>\n",
       "      <td>...</td>\n",
       "    </tr>\n",
       "    <tr>\n",
       "      <th>449725</th>\n",
       "      <td>-50.810</td>\n",
       "      <td>4.359</td>\n",
       "      <td>2019</td>\n",
       "      <td>1.0</td>\n",
       "      <td>2.0</td>\n",
       "      <td>0.0</td>\n",
       "      <td>34.0</td>\n",
       "      <td>134.00</td>\n",
       "      <td>0.002312</td>\n",
       "      <td>2.3460</td>\n",
       "      <td>33.906</td>\n",
       "      <td>0.85765</td>\n",
       "    </tr>\n",
       "    <tr>\n",
       "      <th>449726</th>\n",
       "      <td>-50.810</td>\n",
       "      <td>4.359</td>\n",
       "      <td>2019</td>\n",
       "      <td>1.0</td>\n",
       "      <td>2.0</td>\n",
       "      <td>0.0</td>\n",
       "      <td>34.0</td>\n",
       "      <td>136.00</td>\n",
       "      <td>0.001488</td>\n",
       "      <td>2.2490</td>\n",
       "      <td>33.919</td>\n",
       "      <td>0.52873</td>\n",
       "    </tr>\n",
       "    <tr>\n",
       "      <th>449727</th>\n",
       "      <td>-50.810</td>\n",
       "      <td>4.359</td>\n",
       "      <td>2019</td>\n",
       "      <td>1.0</td>\n",
       "      <td>2.0</td>\n",
       "      <td>0.0</td>\n",
       "      <td>34.0</td>\n",
       "      <td>138.00</td>\n",
       "      <td>0.001300</td>\n",
       "      <td>2.1780</td>\n",
       "      <td>33.929</td>\n",
       "      <td>0.37503</td>\n",
       "    </tr>\n",
       "    <tr>\n",
       "      <th>449728</th>\n",
       "      <td>-50.810</td>\n",
       "      <td>4.359</td>\n",
       "      <td>2019</td>\n",
       "      <td>1.0</td>\n",
       "      <td>2.0</td>\n",
       "      <td>0.0</td>\n",
       "      <td>34.0</td>\n",
       "      <td>140.00</td>\n",
       "      <td>0.001373</td>\n",
       "      <td>2.1080</td>\n",
       "      <td>33.943</td>\n",
       "      <td>0.27205</td>\n",
       "    </tr>\n",
       "    <tr>\n",
       "      <th>449729</th>\n",
       "      <td>-50.810</td>\n",
       "      <td>4.359</td>\n",
       "      <td>2019</td>\n",
       "      <td>NaN</td>\n",
       "      <td>NaN</td>\n",
       "      <td>NaN</td>\n",
       "      <td>NaN</td>\n",
       "      <td>NaN</td>\n",
       "      <td>NaN</td>\n",
       "      <td>NaN</td>\n",
       "      <td>NaN</td>\n",
       "      <td>NaN</td>\n",
       "    </tr>\n",
       "  </tbody>\n",
       "</table>\n",
       "<p>449730 rows × 12 columns</p>\n",
       "</div>"
      ],
      "text/plain": [
       "           lat      lon  year  month  day  hour  minute  Depth (m)  \\\n",
       "0      -64.977 -155.980  2018    1.0  2.0   8.0    57.0      10.58   \n",
       "1      -64.977 -155.980  2018    1.0  2.0   8.0    57.0      14.94   \n",
       "2      -64.977 -155.980  2018    1.0  2.0   8.0    57.0      20.97   \n",
       "3      -64.977 -155.980  2018    1.0  2.0   8.0    57.0      26.04   \n",
       "4      -64.977 -155.980  2018    1.0  2.0   8.0    57.0      31.18   \n",
       "...        ...      ...   ...    ...  ...   ...     ...        ...   \n",
       "449725 -50.810    4.359  2019    1.0  2.0   0.0    34.0     134.00   \n",
       "449726 -50.810    4.359  2019    1.0  2.0   0.0    34.0     136.00   \n",
       "449727 -50.810    4.359  2019    1.0  2.0   0.0    34.0     138.00   \n",
       "449728 -50.810    4.359  2019    1.0  2.0   0.0    34.0     140.00   \n",
       "449729 -50.810    4.359  2019    NaN  NaN   NaN     NaN        NaN   \n",
       "\n",
       "        bbp (700 nm)  temperature  salinity  chlorophyll  \n",
       "0           0.004354      -0.0316    34.033      2.50560  \n",
       "1           0.004130      -0.0307    34.032      2.81520  \n",
       "2           0.004209      -0.0785    34.036      2.62800  \n",
       "3           0.004556      -0.1061    34.037      3.00960  \n",
       "4           0.004747      -0.2544    34.042      3.51360  \n",
       "...              ...          ...       ...          ...  \n",
       "449725      0.002312       2.3460    33.906      0.85765  \n",
       "449726      0.001488       2.2490    33.919      0.52873  \n",
       "449727      0.001300       2.1780    33.929      0.37503  \n",
       "449728      0.001373       2.1080    33.943      0.27205  \n",
       "449729           NaN          NaN       NaN          NaN  \n",
       "\n",
       "[449730 rows x 12 columns]"
      ]
     },
     "execution_count": 4,
     "metadata": {},
     "output_type": "execute_result"
    }
   ],
   "source": [
    "# Load the csv file with Pandas\n",
    "argo_df = pd.read_csv(argo_fn)\n",
    "# Add column names defined in the metadata\n",
    "argo_df.columns = ['lat', 'lon', 'year', 'month', 'day', 'hour', \n",
    "                   'minute', 'Depth (m)', 'bbp (700 nm)', 'temperature', \n",
    "                   'salinity', 'chlorophyll']\n",
    "# Inspect the dataframe\n",
    "argo_df"
   ]
  },
  {
   "cell_type": "code",
   "execution_count": 5,
   "metadata": {
    "jupyter": {
     "source_hidden": true
    }
   },
   "outputs": [
    {
     "name": "stdout",
     "output_type": "stream",
     "text": [
      "<class 'pandas.core.frame.DataFrame'>\n",
      "RangeIndex: 449730 entries, 0 to 449729\n",
      "Data columns (total 12 columns):\n",
      " #   Column        Non-Null Count   Dtype  \n",
      "---  ------        --------------   -----  \n",
      " 0   lat           449730 non-null  float64\n",
      " 1   lon           449730 non-null  float64\n",
      " 2   year          449730 non-null  int64  \n",
      " 3   month         449729 non-null  float64\n",
      " 4   day           449729 non-null  float64\n",
      " 5   hour          449729 non-null  float64\n",
      " 6   minute        449729 non-null  float64\n",
      " 7   Depth (m)     449729 non-null  float64\n",
      " 8   bbp (700 nm)  449729 non-null  float64\n",
      " 9   temperature   449729 non-null  float64\n",
      " 10  salinity      449729 non-null  float64\n",
      " 11  chlorophyll   449729 non-null  float64\n",
      "dtypes: float64(11), int64(1)\n",
      "memory usage: 41.2 MB\n"
     ]
    }
   ],
   "source": [
    "# Check data types\n",
    "argo_df.info()"
   ]
  },
  {
   "cell_type": "code",
   "execution_count": 6,
   "metadata": {
    "jupyter": {
     "source_hidden": true
    }
   },
   "outputs": [
    {
     "data": {
      "text/plain": [
       "Index(['lat', 'lon', 'year', 'month', 'day', 'hour', 'minute', 'Depth (m)',\n",
       "       'bbp (700 nm)', 'temperature', 'salinity', 'chlorophyll'],\n",
       "      dtype='object')"
      ]
     },
     "execution_count": 6,
     "metadata": {},
     "output_type": "execute_result"
    }
   ],
   "source": [
    "# Check that column labels are correct\n",
    "argo_df.columns"
   ]
  },
  {
   "cell_type": "code",
   "execution_count": 7,
   "metadata": {
    "jupyter": {
     "source_hidden": true
    }
   },
   "outputs": [
    {
     "data": {
      "text/html": [
       "<div>\n",
       "<style scoped>\n",
       "    .dataframe tbody tr th:only-of-type {\n",
       "        vertical-align: middle;\n",
       "    }\n",
       "\n",
       "    .dataframe tbody tr th {\n",
       "        vertical-align: top;\n",
       "    }\n",
       "\n",
       "    .dataframe thead th {\n",
       "        text-align: right;\n",
       "    }\n",
       "</style>\n",
       "<table border=\"1\" class=\"dataframe\">\n",
       "  <thead>\n",
       "    <tr style=\"text-align: right;\">\n",
       "      <th></th>\n",
       "      <th>lat</th>\n",
       "      <th>lon</th>\n",
       "      <th>year</th>\n",
       "      <th>month</th>\n",
       "      <th>day</th>\n",
       "      <th>hour</th>\n",
       "      <th>minute</th>\n",
       "      <th>Depth (m)</th>\n",
       "      <th>bbp (700 nm)</th>\n",
       "      <th>temperature</th>\n",
       "      <th>salinity</th>\n",
       "      <th>chlorophyll</th>\n",
       "    </tr>\n",
       "  </thead>\n",
       "  <tbody>\n",
       "    <tr>\n",
       "      <th>0</th>\n",
       "      <td>-64.977</td>\n",
       "      <td>-155.98</td>\n",
       "      <td>2018</td>\n",
       "      <td>1.0</td>\n",
       "      <td>2.0</td>\n",
       "      <td>8.0</td>\n",
       "      <td>57.0</td>\n",
       "      <td>10.58</td>\n",
       "      <td>0.004354</td>\n",
       "      <td>-0.0316</td>\n",
       "      <td>34.033</td>\n",
       "      <td>2.5056</td>\n",
       "    </tr>\n",
       "    <tr>\n",
       "      <th>1</th>\n",
       "      <td>-64.977</td>\n",
       "      <td>-155.98</td>\n",
       "      <td>2018</td>\n",
       "      <td>1.0</td>\n",
       "      <td>2.0</td>\n",
       "      <td>8.0</td>\n",
       "      <td>57.0</td>\n",
       "      <td>14.94</td>\n",
       "      <td>0.004130</td>\n",
       "      <td>-0.0307</td>\n",
       "      <td>34.032</td>\n",
       "      <td>2.8152</td>\n",
       "    </tr>\n",
       "    <tr>\n",
       "      <th>2</th>\n",
       "      <td>-64.977</td>\n",
       "      <td>-155.98</td>\n",
       "      <td>2018</td>\n",
       "      <td>1.0</td>\n",
       "      <td>2.0</td>\n",
       "      <td>8.0</td>\n",
       "      <td>57.0</td>\n",
       "      <td>20.97</td>\n",
       "      <td>0.004209</td>\n",
       "      <td>-0.0785</td>\n",
       "      <td>34.036</td>\n",
       "      <td>2.6280</td>\n",
       "    </tr>\n",
       "    <tr>\n",
       "      <th>3</th>\n",
       "      <td>-64.977</td>\n",
       "      <td>-155.98</td>\n",
       "      <td>2018</td>\n",
       "      <td>1.0</td>\n",
       "      <td>2.0</td>\n",
       "      <td>8.0</td>\n",
       "      <td>57.0</td>\n",
       "      <td>26.04</td>\n",
       "      <td>0.004556</td>\n",
       "      <td>-0.1061</td>\n",
       "      <td>34.037</td>\n",
       "      <td>3.0096</td>\n",
       "    </tr>\n",
       "    <tr>\n",
       "      <th>4</th>\n",
       "      <td>-64.977</td>\n",
       "      <td>-155.98</td>\n",
       "      <td>2018</td>\n",
       "      <td>1.0</td>\n",
       "      <td>2.0</td>\n",
       "      <td>8.0</td>\n",
       "      <td>57.0</td>\n",
       "      <td>31.18</td>\n",
       "      <td>0.004747</td>\n",
       "      <td>-0.2544</td>\n",
       "      <td>34.042</td>\n",
       "      <td>3.5136</td>\n",
       "    </tr>\n",
       "  </tbody>\n",
       "</table>\n",
       "</div>"
      ],
      "text/plain": [
       "      lat     lon  year  month  day  hour  minute  Depth (m)  bbp (700 nm)  \\\n",
       "0 -64.977 -155.98  2018    1.0  2.0   8.0    57.0      10.58      0.004354   \n",
       "1 -64.977 -155.98  2018    1.0  2.0   8.0    57.0      14.94      0.004130   \n",
       "2 -64.977 -155.98  2018    1.0  2.0   8.0    57.0      20.97      0.004209   \n",
       "3 -64.977 -155.98  2018    1.0  2.0   8.0    57.0      26.04      0.004556   \n",
       "4 -64.977 -155.98  2018    1.0  2.0   8.0    57.0      31.18      0.004747   \n",
       "\n",
       "   temperature  salinity  chlorophyll  \n",
       "0      -0.0316    34.033       2.5056  \n",
       "1      -0.0307    34.032       2.8152  \n",
       "2      -0.0785    34.036       2.6280  \n",
       "3      -0.1061    34.037       3.0096  \n",
       "4      -0.2544    34.042       3.5136  "
      ]
     },
     "execution_count": 7,
     "metadata": {},
     "output_type": "execute_result"
    }
   ],
   "source": [
    "# Check head\n",
    "argo_df.head()"
   ]
  },
  {
   "cell_type": "code",
   "execution_count": 8,
   "metadata": {
    "jupyter": {
     "source_hidden": true
    }
   },
   "outputs": [
    {
     "data": {
      "text/html": [
       "<div>\n",
       "<style scoped>\n",
       "    .dataframe tbody tr th:only-of-type {\n",
       "        vertical-align: middle;\n",
       "    }\n",
       "\n",
       "    .dataframe tbody tr th {\n",
       "        vertical-align: top;\n",
       "    }\n",
       "\n",
       "    .dataframe thead th {\n",
       "        text-align: right;\n",
       "    }\n",
       "</style>\n",
       "<table border=\"1\" class=\"dataframe\">\n",
       "  <thead>\n",
       "    <tr style=\"text-align: right;\">\n",
       "      <th></th>\n",
       "      <th>lat</th>\n",
       "      <th>lon</th>\n",
       "      <th>year</th>\n",
       "      <th>month</th>\n",
       "      <th>day</th>\n",
       "      <th>hour</th>\n",
       "      <th>minute</th>\n",
       "      <th>Depth (m)</th>\n",
       "      <th>bbp (700 nm)</th>\n",
       "      <th>temperature</th>\n",
       "      <th>salinity</th>\n",
       "      <th>chlorophyll</th>\n",
       "    </tr>\n",
       "  </thead>\n",
       "  <tbody>\n",
       "    <tr>\n",
       "      <th>449725</th>\n",
       "      <td>-50.81</td>\n",
       "      <td>4.359</td>\n",
       "      <td>2019</td>\n",
       "      <td>1.0</td>\n",
       "      <td>2.0</td>\n",
       "      <td>0.0</td>\n",
       "      <td>34.0</td>\n",
       "      <td>134.0</td>\n",
       "      <td>0.002312</td>\n",
       "      <td>2.346</td>\n",
       "      <td>33.906</td>\n",
       "      <td>0.85765</td>\n",
       "    </tr>\n",
       "    <tr>\n",
       "      <th>449726</th>\n",
       "      <td>-50.81</td>\n",
       "      <td>4.359</td>\n",
       "      <td>2019</td>\n",
       "      <td>1.0</td>\n",
       "      <td>2.0</td>\n",
       "      <td>0.0</td>\n",
       "      <td>34.0</td>\n",
       "      <td>136.0</td>\n",
       "      <td>0.001488</td>\n",
       "      <td>2.249</td>\n",
       "      <td>33.919</td>\n",
       "      <td>0.52873</td>\n",
       "    </tr>\n",
       "    <tr>\n",
       "      <th>449727</th>\n",
       "      <td>-50.81</td>\n",
       "      <td>4.359</td>\n",
       "      <td>2019</td>\n",
       "      <td>1.0</td>\n",
       "      <td>2.0</td>\n",
       "      <td>0.0</td>\n",
       "      <td>34.0</td>\n",
       "      <td>138.0</td>\n",
       "      <td>0.001300</td>\n",
       "      <td>2.178</td>\n",
       "      <td>33.929</td>\n",
       "      <td>0.37503</td>\n",
       "    </tr>\n",
       "    <tr>\n",
       "      <th>449728</th>\n",
       "      <td>-50.81</td>\n",
       "      <td>4.359</td>\n",
       "      <td>2019</td>\n",
       "      <td>1.0</td>\n",
       "      <td>2.0</td>\n",
       "      <td>0.0</td>\n",
       "      <td>34.0</td>\n",
       "      <td>140.0</td>\n",
       "      <td>0.001373</td>\n",
       "      <td>2.108</td>\n",
       "      <td>33.943</td>\n",
       "      <td>0.27205</td>\n",
       "    </tr>\n",
       "    <tr>\n",
       "      <th>449729</th>\n",
       "      <td>-50.81</td>\n",
       "      <td>4.359</td>\n",
       "      <td>2019</td>\n",
       "      <td>NaN</td>\n",
       "      <td>NaN</td>\n",
       "      <td>NaN</td>\n",
       "      <td>NaN</td>\n",
       "      <td>NaN</td>\n",
       "      <td>NaN</td>\n",
       "      <td>NaN</td>\n",
       "      <td>NaN</td>\n",
       "      <td>NaN</td>\n",
       "    </tr>\n",
       "  </tbody>\n",
       "</table>\n",
       "</div>"
      ],
      "text/plain": [
       "          lat    lon  year  month  day  hour  minute  Depth (m)  bbp (700 nm)  \\\n",
       "449725 -50.81  4.359  2019    1.0  2.0   0.0    34.0      134.0      0.002312   \n",
       "449726 -50.81  4.359  2019    1.0  2.0   0.0    34.0      136.0      0.001488   \n",
       "449727 -50.81  4.359  2019    1.0  2.0   0.0    34.0      138.0      0.001300   \n",
       "449728 -50.81  4.359  2019    1.0  2.0   0.0    34.0      140.0      0.001373   \n",
       "449729 -50.81  4.359  2019    NaN  NaN   NaN     NaN        NaN           NaN   \n",
       "\n",
       "        temperature  salinity  chlorophyll  \n",
       "449725        2.346    33.906      0.85765  \n",
       "449726        2.249    33.919      0.52873  \n",
       "449727        2.178    33.929      0.37503  \n",
       "449728        2.108    33.943      0.27205  \n",
       "449729          NaN       NaN          NaN  "
      ]
     },
     "execution_count": 8,
     "metadata": {},
     "output_type": "execute_result"
    }
   ],
   "source": [
    "# Check tail\n",
    "argo_df.tail()"
   ]
  },
  {
   "cell_type": "code",
   "execution_count": 9,
   "metadata": {
    "jupyter": {
     "source_hidden": true
    }
   },
   "outputs": [],
   "source": [
    "argo_df_nan = argo_df.replace(99999, np.nan)\n",
    "argo_df = argo_df_nan"
   ]
  },
  {
   "cell_type": "code",
   "execution_count": 10,
   "metadata": {
    "jupyter": {
     "source_hidden": true
    }
   },
   "outputs": [
    {
     "data": {
      "application/vnd.jupyter.widget-view+json": {
       "model_id": "9b397a8b0dab49c1ac3563e8cd70b3cc",
       "version_major": 2,
       "version_minor": 0
      },
      "text/plain": [
       "Canvas(toolbar=Toolbar(toolitems=[('Home', 'Reset original view', 'home', 'home'), ('Back', 'Back to previous …"
      ]
     },
     "metadata": {},
     "output_type": "display_data"
    }
   ],
   "source": [
    "# Create a scatter plot showing data locations\n",
    "ax = argo_df_nan.plot(x='lon', y='lat', kind='scatter', c='k', s=1)\n",
    "ax.set_title('Location of Argo Floats');"
   ]
  },
  {
   "cell_type": "markdown",
   "metadata": {},
   "source": [
    "# Load in ICESat-2 Data"
   ]
  },
  {
   "cell_type": "code",
   "execution_count": 11,
   "metadata": {},
   "outputs": [
    {
     "name": "stdout",
     "output_type": "stream",
     "text": [
      "0\n"
     ]
    }
   ],
   "source": [
    "# temp_dloc = '/home/jovyan/tutorial-data/sea-ice/'\n",
    "# is2_fn = 'ATL03_20190206123200_06120204_002_01.h5'\n",
    "is2_fn = 'IS2_S2/ATL03_20190805215948_05930404_002_02.h5'\n",
    "is2_f = h5py.File(data_loc+is2_fn, 'r')\n",
    "# is2_f = h5py.File(is2_fn,'r')\n",
    "print(is2_f['orbit_info/sc_orient'][0]) # Check forward/backward orientation"
   ]
  },
  {
   "cell_type": "code",
   "execution_count": 12,
   "metadata": {},
   "outputs": [
    {
     "data": {
      "text/html": [
       "<div>\n",
       "<style scoped>\n",
       "    .dataframe tbody tr th:only-of-type {\n",
       "        vertical-align: middle;\n",
       "    }\n",
       "\n",
       "    .dataframe tbody tr th {\n",
       "        vertical-align: top;\n",
       "    }\n",
       "\n",
       "    .dataframe thead th {\n",
       "        text-align: right;\n",
       "    }\n",
       "</style>\n",
       "<table border=\"1\" class=\"dataframe\">\n",
       "  <thead>\n",
       "    <tr style=\"text-align: right;\">\n",
       "      <th></th>\n",
       "      <th>lats</th>\n",
       "      <th>lons</th>\n",
       "      <th>x</th>\n",
       "      <th>y</th>\n",
       "      <th>heights</th>\n",
       "      <th>dt</th>\n",
       "      <th>conf</th>\n",
       "    </tr>\n",
       "  </thead>\n",
       "  <tbody>\n",
       "    <tr>\n",
       "      <th>0</th>\n",
       "      <td>79.993666</td>\n",
       "      <td>40.449280</td>\n",
       "      <td>8938354.0</td>\n",
       "      <td>3306.422607</td>\n",
       "      <td>-2426.635986</td>\n",
       "      <td>5.027759e+07</td>\n",
       "      <td>-2</td>\n",
       "    </tr>\n",
       "    <tr>\n",
       "      <th>1</th>\n",
       "      <td>79.993605</td>\n",
       "      <td>40.450261</td>\n",
       "      <td>8938344.0</td>\n",
       "      <td>3289.306152</td>\n",
       "      <td>234.947739</td>\n",
       "      <td>5.027759e+07</td>\n",
       "      <td>2</td>\n",
       "    </tr>\n",
       "    <tr>\n",
       "      <th>2</th>\n",
       "      <td>79.993611</td>\n",
       "      <td>40.450256</td>\n",
       "      <td>8938344.0</td>\n",
       "      <td>3289.260986</td>\n",
       "      <td>242.102203</td>\n",
       "      <td>5.027759e+07</td>\n",
       "      <td>2</td>\n",
       "    </tr>\n",
       "    <tr>\n",
       "      <th>3</th>\n",
       "      <td>79.993612</td>\n",
       "      <td>40.450246</td>\n",
       "      <td>8938344.0</td>\n",
       "      <td>3289.424561</td>\n",
       "      <td>216.635086</td>\n",
       "      <td>5.027759e+07</td>\n",
       "      <td>2</td>\n",
       "    </tr>\n",
       "    <tr>\n",
       "      <th>4</th>\n",
       "      <td>79.993617</td>\n",
       "      <td>40.450247</td>\n",
       "      <td>8938345.0</td>\n",
       "      <td>3289.272705</td>\n",
       "      <td>240.364456</td>\n",
       "      <td>5.027759e+07</td>\n",
       "      <td>2</td>\n",
       "    </tr>\n",
       "  </tbody>\n",
       "</table>\n",
       "</div>"
      ],
      "text/plain": [
       "        lats       lons          x            y      heights            dt  \\\n",
       "0  79.993666  40.449280  8938354.0  3306.422607 -2426.635986  5.027759e+07   \n",
       "1  79.993605  40.450261  8938344.0  3289.306152   234.947739  5.027759e+07   \n",
       "2  79.993611  40.450256  8938344.0  3289.260986   242.102203  5.027759e+07   \n",
       "3  79.993612  40.450246  8938344.0  3289.424561   216.635086  5.027759e+07   \n",
       "4  79.993617  40.450247  8938345.0  3289.272705   240.364456  5.027759e+07   \n",
       "\n",
       "   conf  \n",
       "0    -2  \n",
       "1     2  \n",
       "2     2  \n",
       "3     2  \n",
       "4     2  "
      ]
     },
     "execution_count": 12,
     "metadata": {},
     "output_type": "execute_result"
    }
   ],
   "source": [
    "# Read in icesat 2 data as a pandas dataframe\n",
    "beam='gt1l'\n",
    "df03=rd.getATL03(is2_f,beam)\n",
    "df03.head()"
   ]
  },
  {
   "cell_type": "markdown",
   "metadata": {},
   "source": [
    "## Load in Sentinel 2 Data"
   ]
  },
  {
   "cell_type": "code",
   "execution_count": 13,
   "metadata": {},
   "outputs": [],
   "source": [
    "s2_fn = 'IS2_S2/2019085_T11XMK.tif'\n",
    "s2_img = rasterio.open(data_loc+s2_fn)"
   ]
  },
  {
   "cell_type": "code",
   "execution_count": 14,
   "metadata": {},
   "outputs": [
    {
     "data": {
      "text/plain": [
       "<matplotlib.axes._subplots.AxesSubplot at 0x7fa5162d3b90>"
      ]
     },
     "execution_count": 14,
     "metadata": {},
     "output_type": "execute_result"
    }
   ],
   "source": [
    "show(s2_img)"
   ]
  },
  {
   "cell_type": "code",
   "execution_count": 15,
   "metadata": {},
   "outputs": [
    {
     "name": "stdout",
     "output_type": "stream",
     "text": [
      "BoundingBox(left=399960.0, bottom=8890200.0, right=509760.0, top=9000000.0)\n"
     ]
    }
   ],
   "source": [
    "s2_bounds  = s2_img.bounds\n",
    "print(s2_bounds)"
   ]
  },
  {
   "cell_type": "code",
   "execution_count": 16,
   "metadata": {},
   "outputs": [
    {
     "name": "stdout",
     "output_type": "stream",
     "text": [
      "POLYGON ((509760 8890200, 509760 9000000, 399960 9000000, 399960 8890200, 509760 8890200))\n"
     ]
    }
   ],
   "source": [
    "from shapely.geometry import box\n",
    "geom = box(*s2_bounds)\n",
    "print(geom.wkt)"
   ]
  },
  {
   "cell_type": "code",
   "execution_count": 17,
   "metadata": {},
   "outputs": [
    {
     "data": {
      "text/plain": [
       "CRS.from_epsg(32611)"
      ]
     },
     "execution_count": 17,
     "metadata": {},
     "output_type": "execute_result"
    }
   ],
   "source": [
    "s2_img.crs"
   ]
  },
  {
   "cell_type": "code",
   "execution_count": null,
   "metadata": {},
   "outputs": [],
   "source": []
  },
  {
   "cell_type": "code",
   "execution_count": 19,
   "metadata": {},
   "outputs": [
    {
     "data": {
      "text/plain": [
       "(array('d', [509760.0, 509760.0, 399960.0, 399960.0, 509760.0]),\n",
       " array('d', [8890200.0, 9000000.0, 9000000.0, 8890200.0, 8890200.0]))"
      ]
     },
     "execution_count": 19,
     "metadata": {},
     "output_type": "execute_result"
    }
   ],
   "source": [
    "geom.exterior.xy"
   ]
  },
  {
   "cell_type": "code",
   "execution_count": 20,
   "metadata": {},
   "outputs": [
    {
     "data": {
      "application/vnd.jupyter.widget-view+json": {
       "model_id": "d3bdeb3212b242d49b9fa9d8128f847c",
       "version_major": 2,
       "version_minor": 0
      },
      "text/plain": [
       "Canvas(toolbar=Toolbar(toolitems=[('Home', 'Reset original view', 'home', 'home'), ('Back', 'Back to previous …"
      ]
     },
     "metadata": {},
     "output_type": "display_data"
    }
   ],
   "source": [
    "var= 'heights' #choose which variable we want to plot\n",
    "\n",
    "## we will want to set colorbar parameters based on the chosen variable\n",
    "vmin=-10\n",
    "vmax=30\n",
    "ticks=np.arange(-20,100,5)\n",
    "\n",
    "# cartopy - need to make figure and set projection first before adding data\n",
    "plt.figure(figsize=(8,8), dpi= 90)\n",
    "ax = plt.axes(projection=ccrs.NorthPolarStereo(central_longitude=0)) # choose polar sterographic for projection\n",
    "ax.coastlines(resolution='50m', color='black', linewidth=1)\n",
    "ax.set_extent([-180, 180, 60, 90], ccrs.PlateCarree())\n",
    "plt.scatter(argo_df['lon'], argo_df['lat'], c= 'k',s=2,transform=ccrs.PlateCarree())\n",
    "plt.scatter(df03['lons'][::1000], df03['lats'][::1000],c=df03[var][::1000], cmap='viridis', vmin=vmin,vmax=vmax,transform=ccrs.PlateCarree())\n",
    "plt.plot(*geom.exterior.xy, transform=ccrs.PlateCarree())\n",
    "# ax.set_extent([399960.0, 8890200.0, 509760.0, 9000000.0], transform=ccrs.PlateCarree())\n",
    "plt.colorbar(label=var, shrink=0.5, ticks=ticks,extend='both');"
   ]
  },
  {
   "cell_type": "markdown",
   "metadata": {},
   "source": [
    "# When i have coincident data, I can plot these on top of eachother"
   ]
  },
  {
   "cell_type": "code",
   "execution_count": null,
   "metadata": {},
   "outputs": [],
   "source": [
    "df03.head()"
   ]
  },
  {
   "cell_type": "code",
   "execution_count": null,
   "metadata": {},
   "outputs": [],
   "source": [
    "## create bounding box of interest:\n",
    "lonmin,lonmax,latmin,latmax= [0,60,85,87.5]\n",
    "\n",
    "bbox=(df03['lons']>lonmin)&(df03['lons']<lonmax)&(df03['lats']>latmin)&(df03['lats']<latmax)\n",
    "df_cut=df03[bbox]\n",
    "\n",
    "## converting GPS time to UTC time\n",
    "epoch=is2_f['/ancillary_data/atlas_sdp_gps_epoch'][0]\n",
    "df_cut['time']=Time(epoch+df_cut['dt'],format='gps').utc.datetime\n",
    "\n",
    "## calculate along track distance relative to the beginning of the cut segment\n",
    "# Subtract all along track x-values from first segment\n",
    "df_cut['AT_dist']=df_cut.x-df_cut.x.values[0]\n",
    "\n",
    "df_cut.head()"
   ]
  },
  {
   "cell_type": "code",
   "execution_count": null,
   "metadata": {},
   "outputs": [],
   "source": [
    "plt.subplots(1,1,figsize=(10,4))\n",
    "plt.scatter(df_cut.AT_dist.values[df_cut.conf<3],df_cut.heights.values[df_cut.conf<3],c='r',s=1)\n",
    "plt.scatter(df_cut.AT_dist.values[df_cut.conf>2],df_cut.heights.values[df_cut.conf>2],c='g',s=1)\n",
    "plt.xlabel('alongtrack distance (m)',fontsize=20)\n",
    "plt.ylabel('heights',fontsize=20)\n",
    "# plt.ylim(15,25);\n",
    "plt.xlim(df_cut.AT_dist.values[0],df_cut.AT_dist.values[-1]);"
   ]
  },
  {
   "cell_type": "code",
   "execution_count": null,
   "metadata": {},
   "outputs": [],
   "source": []
  }
 ],
 "metadata": {
  "kernelspec": {
   "display_name": "Python 3",
   "language": "python",
   "name": "python3"
  },
  "language_info": {
   "codemirror_mode": {
    "name": "ipython",
    "version": 3
   },
   "file_extension": ".py",
   "mimetype": "text/x-python",
   "name": "python",
   "nbconvert_exporter": "python",
   "pygments_lexer": "ipython3",
   "version": "3.7.6"
  }
 },
 "nbformat": 4,
 "nbformat_minor": 4
}
