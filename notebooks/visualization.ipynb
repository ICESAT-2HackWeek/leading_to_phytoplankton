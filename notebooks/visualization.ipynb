{
 "cells": [
  {
   "cell_type": "markdown",
   "metadata": {},
   "source": [
    "# Visualization of Coincident ICESat-2, Sentinel, and Argo Float Data\n",
    "\n",
    "ICESat-2 hackweek final project \n",
    "June 16, 2020  \n",
    "Nicole Abib"
   ]
  },
  {
   "cell_type": "code",
   "execution_count": null,
   "metadata": {},
   "outputs": [],
   "source": [
    "import os\n",
    "from icepyx import icesat2data as ipd\n",
    "import numpy as np\n",
    "import pandas as pd\n",
    "import matplotlib.pyplot as plt\n",
    "import h5py \n",
    "import sys  \n",
    "sys.path.insert(0, '/home/jovyan/leading_to_phytoplankton/scripts')\n",
    "import readers as rd\n",
    "import cartopy.crs as ccrs\n",
    "from astropy.time import Time\n",
    "import warnings\n",
    "warnings.filterwarnings('ignore')\n",
    "# magic function to enable interactive plotting\n",
    "%matplotlib widget "
   ]
  },
  {
   "cell_type": "code",
   "execution_count": null,
   "metadata": {},
   "outputs": [],
   "source": [
    "# Define path to sample data\n",
    "data_loc='/home/jovyan/shared/leading_to_phytoplankton/'\n",
    "argo_fn = data_loc+'floats_highlats.csv'\n",
    "# s2_fn = "
   ]
  },
  {
   "cell_type": "code",
   "execution_count": null,
   "metadata": {},
   "outputs": [],
   "source": [
    "# Quick check of csv file contents\n",
    "!head $argo_fn"
   ]
  },
  {
   "cell_type": "code",
   "execution_count": null,
   "metadata": {},
   "outputs": [],
   "source": [
    "# Load the csv file with Pandas\n",
    "argo_df = pd.read_csv(argo_fn)\n",
    "# Add column names defined in the metadata\n",
    "argo_df.columns = ['lat', 'lon', 'year', 'month', 'day', 'hour', \n",
    "                   'minute', 'Depth (m)', 'bbp (700 nm)', 'temperature', \n",
    "                   'salinity', 'chlorophyll']\n",
    "# Inspect the dataframe\n",
    "argo_df"
   ]
  },
  {
   "cell_type": "code",
   "execution_count": null,
   "metadata": {},
   "outputs": [],
   "source": [
    "# Check data types\n",
    "argo_df.info()"
   ]
  },
  {
   "cell_type": "code",
   "execution_count": null,
   "metadata": {},
   "outputs": [],
   "source": [
    "# Check that column labels are correct\n",
    "argo_df.columns"
   ]
  },
  {
   "cell_type": "code",
   "execution_count": null,
   "metadata": {},
   "outputs": [],
   "source": [
    "# Check head\n",
    "argo_df.head()"
   ]
  },
  {
   "cell_type": "code",
   "execution_count": null,
   "metadata": {},
   "outputs": [],
   "source": [
    "# Check tail\n",
    "argo_df.tail()"
   ]
  },
  {
   "cell_type": "code",
   "execution_count": null,
   "metadata": {},
   "outputs": [],
   "source": [
    "argo_df_nan = argo_df.replace(99999, np.nan)\n",
    "argo_df = argo_df_nan"
   ]
  },
  {
   "cell_type": "code",
   "execution_count": null,
   "metadata": {},
   "outputs": [],
   "source": [
    "# Create a scatter plot showing data locations\n",
    "ax = argo_df_nan.plot(x='lon', y='lat', kind='scatter', c='k', s=1)\n",
    "ax.set_title('Location of Argo Floats');"
   ]
  },
  {
   "cell_type": "markdown",
   "metadata": {},
   "source": [
    "# Load in ICESat-2 Data"
   ]
  },
  {
   "cell_type": "code",
   "execution_count": null,
   "metadata": {},
   "outputs": [],
   "source": [
    "# temp_dloc = '/home/jovyan/tutorial-data/sea-ice/'\n",
    "temp_dloc = '/home/jovyan/'\n",
    "# is2_fn = 'ATL03_20190206123200_06120204_002_01.h5'\n",
    "is2_fn = 'ATL03_20190812180506_06970410_003_01.h5'\n",
    "is2_f = h5py.File(temp_dloc+is2_fn, 'r')\n",
    "print(is2_f['orbit_info/sc_orient'][0]) # Check forward/backward orientation"
   ]
  },
  {
   "cell_type": "code",
   "execution_count": null,
   "metadata": {},
   "outputs": [],
   "source": [
    "# Read in icesat 2 data as a pandas dataframe\n",
    "beam='gt1l'\n",
    "df03=rd.getATL03(is2_f,beam)\n",
    "df03.head()"
   ]
  },
  {
   "cell_type": "code",
   "execution_count": null,
   "metadata": {},
   "outputs": [],
   "source": [
    "var= 'heights' #choose which variable we want to plot\n",
    "\n",
    "## we will want to set colorbar parameters based on the chosen variable\n",
    "vmin=-10\n",
    "vmax=30\n",
    "ticks=np.arange(-20,100,5)\n",
    "\n",
    "# cartopy - need to make figure and set projection first before adding data\n",
    "plt.figure(figsize=(8,8), dpi= 90)\n",
    "ax = plt.axes(projection=ccrs.SouthPolarStereo(central_longitude=0)) # choose polar sterographic for projection\n",
    "ax.coastlines(resolution='50m', color='black', linewidth=1)\n",
    "ax.set_extent([-180, 180, -60, -90], ccrs.PlateCarree())\n",
    "plt.scatter(argo_df['lon'], argo_df['lat'], c= 'k',s=2,transform=ccrs.PlateCarree())\n",
    "plt.scatter(df03['lons'][::1000], df03['lats'][::1000],c=df03[var][::1000], cmap='viridis', vmin=vmin,vmax=vmax,transform=ccrs.PlateCarree())\n",
    "plt.colorbar(label=var, shrink=0.5, ticks=ticks,extend='both');"
   ]
  },
  {
   "cell_type": "markdown",
   "metadata": {},
   "source": [
    "# When i have coincident data, I can plot these on top of eachother"
   ]
  },
  {
   "cell_type": "code",
   "execution_count": null,
   "metadata": {},
   "outputs": [],
   "source": [
    "df03.head()"
   ]
  },
  {
   "cell_type": "code",
   "execution_count": null,
   "metadata": {},
   "outputs": [],
   "source": [
    "## create bounding box of interest:\n",
    "lonmin,lonmax,latmin,latmax= [-90,-30,-65.1,-65]\n",
    "\n",
    "bbox=(df03['lons']>lonmin)&(df03['lons']<lonmax)&(df03['lats']>latmin)&(df03['lats']<latmax)\n",
    "df_cut=df03[bbox]\n",
    "\n",
    "## converting GPS time to UTC time\n",
    "epoch=is2_f['/ancillary_data/atlas_sdp_gps_epoch'][0]\n",
    "df_cut['time']=Time(epoch+df_cut['dt'],format='gps').utc.datetime\n",
    "\n",
    "## calculate along track distance relative to the beginning of the cut segment\n",
    "# Subtract all along track x-values from first segment\n",
    "df_cut['AT_dist']=df_cut.x-df_cut.x.values[0]\n",
    "\n",
    "df_cut.head()"
   ]
  },
  {
   "cell_type": "code",
   "execution_count": null,
   "metadata": {},
   "outputs": [],
   "source": [
    "plt.subplots(1,1,figsize=(10,4))\n",
    "plt.scatter(df_cut.AT_dist.values[df_cut.conf<3],df_cut.heights.values[df_cut.conf<3],c='r',s=1)\n",
    "plt.scatter(df_cut.AT_dist.values[df_cut.conf>2],df_cut.heights.values[df_cut.conf>2],c='g',s=1)\n",
    "plt.xlabel('alongtrack distance (m)',fontsize=20)\n",
    "plt.ylabel('heights',fontsize=20)\n",
    "# plt.ylim(15,25);\n",
    "plt.xlim(df_cut.AT_dist.values[0],df_cut.AT_dist.values[-1]);"
   ]
  },
  {
   "cell_type": "code",
   "execution_count": null,
   "metadata": {},
   "outputs": [],
   "source": []
  }
 ],
 "metadata": {
  "kernelspec": {
   "display_name": "Python 3",
   "language": "python",
   "name": "python3"
  },
  "language_info": {
   "codemirror_mode": {
    "name": "ipython",
    "version": 3
   },
   "file_extension": ".py",
   "mimetype": "text/x-python",
   "name": "python",
   "nbconvert_exporter": "python",
   "pygments_lexer": "ipython3",
   "version": "3.7.6"
  }
 },
 "nbformat": 4,
 "nbformat_minor": 4
}
