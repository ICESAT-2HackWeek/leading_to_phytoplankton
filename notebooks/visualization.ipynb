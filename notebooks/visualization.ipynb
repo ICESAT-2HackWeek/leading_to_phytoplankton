{
 "cells": [
  {
   "cell_type": "markdown",
   "metadata": {},
   "source": [
    "# Visualization of Coincident ICESat-2, Sentinel, and Argo Float Data\n",
    "\n",
    "ICESat-2 hackweek final project \n",
    "June 16, 2020  \n",
    "Nicole Abib"
   ]
  },
  {
   "cell_type": "code",
   "execution_count": 1,
   "metadata": {},
   "outputs": [],
   "source": [
    "import os\n",
    "from icepyx import icesat2data as ipd\n",
    "import rasterio\n",
    "from rasterio.plot import show\n",
    "import numpy as np\n",
    "import pandas as pd\n",
    "import matplotlib.pyplot as plt\n",
    "import h5py \n",
    "import sys  \n",
    "sys.path.insert(0, '/home/jovyan/leading_to_phytoplankton/scripts')\n",
    "import readers as rd\n",
    "import cartopy.crs as ccrs\n",
    "from astropy.time import Time\n",
    "from osgeo import gdal\n",
    "import warnings\n",
    "warnings.filterwarnings('ignore')\n",
    "# magic function to enable interactive plotting\n",
    "%matplotlib widget "
   ]
  },
  {
   "cell_type": "code",
   "execution_count": 2,
   "metadata": {},
   "outputs": [],
   "source": [
    "# Define path to sample data\n",
    "data_loc='/home/jovyan/shared/leading_to_phytoplankton/'\n",
    "argo_fn = data_loc+'floats_highlats.csv'"
   ]
  },
  {
   "cell_type": "code",
   "execution_count": 3,
   "metadata": {},
   "outputs": [],
   "source": [
    "# Quick check of csv file contents\n",
    "# !head $argo_fn"
   ]
  },
  {
   "cell_type": "code",
   "execution_count": 5,
   "metadata": {},
   "outputs": [],
   "source": [
    "# Load the csv file with Pandas\n",
    "argo_df = pd.read_csv(argo_fn)\n",
    "# Add column names defined in the metadata\n",
    "argo_df.columns = ['lat', 'lon', 'year', 'month', 'day', 'hour', \n",
    "                   'minute', 'Depth (m)', 'bbp (700 nm)', 'temperature', \n",
    "                   'salinity', 'chlorophyll']\n",
    "# Inspect the dataframe\n",
    "# argo_df"
   ]
  },
  {
   "cell_type": "code",
   "execution_count": 6,
   "metadata": {},
   "outputs": [],
   "source": [
    "# Check data types\n",
    "# argo_df.info()"
   ]
  },
  {
   "cell_type": "code",
   "execution_count": 7,
   "metadata": {},
   "outputs": [],
   "source": [
    "# Check that column labels are correct\n",
    "# argo_df.columns"
   ]
  },
  {
   "cell_type": "code",
   "execution_count": 8,
   "metadata": {},
   "outputs": [],
   "source": [
    "# Check head\n",
    "# argo_df.head()"
   ]
  },
  {
   "cell_type": "code",
   "execution_count": 9,
   "metadata": {},
   "outputs": [],
   "source": [
    "# Check tail\n",
    "# argo_df.tail()"
   ]
  },
  {
   "cell_type": "code",
   "execution_count": 10,
   "metadata": {},
   "outputs": [],
   "source": [
    "argo_df_nan = argo_df.replace(99999, np.nan)\n",
    "argo_df = argo_df_nan"
   ]
  },
  {
   "cell_type": "code",
   "execution_count": 11,
   "metadata": {},
   "outputs": [],
   "source": [
    "# Create a scatter plot showing data locations\n",
    "# ax = argo_df_nan.plot(x='lon', y='lat', kind='scatter', c='k', s=1)\n",
    "# ax.set_title('Location of Argo Floats');"
   ]
  },
  {
   "cell_type": "markdown",
   "metadata": {},
   "source": [
    "# Load in ICESat-2 Data"
   ]
  },
  {
   "cell_type": "code",
   "execution_count": 12,
   "metadata": {},
   "outputs": [
    {
     "name": "stdout",
     "output_type": "stream",
     "text": [
      "0\n"
     ]
    }
   ],
   "source": [
    "# temp_dloc = '/home/jovyan/tutorial-data/sea-ice/'\n",
    "# is2_fn = 'ATL03_20190206123200_06120204_002_01.h5'\n",
    "is2_fn = 'IS2_S2/ATL03_20190805215948_05930404_002_02.h5'\n",
    "is2_f = h5py.File(data_loc+is2_fn, 'r')\n",
    "# is2_f = h5py.File(is2_fn,'r')\n",
    "print(is2_f['orbit_info/sc_orient'][0]) # Check forward/backward orientation"
   ]
  },
  {
   "cell_type": "code",
   "execution_count": 13,
   "metadata": {},
   "outputs": [
    {
     "data": {
      "text/html": [
       "<div>\n",
       "<style scoped>\n",
       "    .dataframe tbody tr th:only-of-type {\n",
       "        vertical-align: middle;\n",
       "    }\n",
       "\n",
       "    .dataframe tbody tr th {\n",
       "        vertical-align: top;\n",
       "    }\n",
       "\n",
       "    .dataframe thead th {\n",
       "        text-align: right;\n",
       "    }\n",
       "</style>\n",
       "<table border=\"1\" class=\"dataframe\">\n",
       "  <thead>\n",
       "    <tr style=\"text-align: right;\">\n",
       "      <th></th>\n",
       "      <th>lats</th>\n",
       "      <th>lons</th>\n",
       "      <th>x</th>\n",
       "      <th>y</th>\n",
       "      <th>heights</th>\n",
       "      <th>dt</th>\n",
       "      <th>conf</th>\n",
       "    </tr>\n",
       "  </thead>\n",
       "  <tbody>\n",
       "    <tr>\n",
       "      <th>0</th>\n",
       "      <td>79.993666</td>\n",
       "      <td>40.449280</td>\n",
       "      <td>8938354.0</td>\n",
       "      <td>3306.422607</td>\n",
       "      <td>-2426.635986</td>\n",
       "      <td>5.027759e+07</td>\n",
       "      <td>-2</td>\n",
       "    </tr>\n",
       "    <tr>\n",
       "      <th>1</th>\n",
       "      <td>79.993605</td>\n",
       "      <td>40.450261</td>\n",
       "      <td>8938344.0</td>\n",
       "      <td>3289.306152</td>\n",
       "      <td>234.947739</td>\n",
       "      <td>5.027759e+07</td>\n",
       "      <td>2</td>\n",
       "    </tr>\n",
       "    <tr>\n",
       "      <th>2</th>\n",
       "      <td>79.993611</td>\n",
       "      <td>40.450256</td>\n",
       "      <td>8938344.0</td>\n",
       "      <td>3289.260986</td>\n",
       "      <td>242.102203</td>\n",
       "      <td>5.027759e+07</td>\n",
       "      <td>2</td>\n",
       "    </tr>\n",
       "    <tr>\n",
       "      <th>3</th>\n",
       "      <td>79.993612</td>\n",
       "      <td>40.450246</td>\n",
       "      <td>8938344.0</td>\n",
       "      <td>3289.424561</td>\n",
       "      <td>216.635086</td>\n",
       "      <td>5.027759e+07</td>\n",
       "      <td>2</td>\n",
       "    </tr>\n",
       "    <tr>\n",
       "      <th>4</th>\n",
       "      <td>79.993617</td>\n",
       "      <td>40.450247</td>\n",
       "      <td>8938345.0</td>\n",
       "      <td>3289.272705</td>\n",
       "      <td>240.364456</td>\n",
       "      <td>5.027759e+07</td>\n",
       "      <td>2</td>\n",
       "    </tr>\n",
       "  </tbody>\n",
       "</table>\n",
       "</div>"
      ],
      "text/plain": [
       "        lats       lons          x            y      heights            dt  \\\n",
       "0  79.993666  40.449280  8938354.0  3306.422607 -2426.635986  5.027759e+07   \n",
       "1  79.993605  40.450261  8938344.0  3289.306152   234.947739  5.027759e+07   \n",
       "2  79.993611  40.450256  8938344.0  3289.260986   242.102203  5.027759e+07   \n",
       "3  79.993612  40.450246  8938344.0  3289.424561   216.635086  5.027759e+07   \n",
       "4  79.993617  40.450247  8938345.0  3289.272705   240.364456  5.027759e+07   \n",
       "\n",
       "   conf  \n",
       "0    -2  \n",
       "1     2  \n",
       "2     2  \n",
       "3     2  \n",
       "4     2  "
      ]
     },
     "execution_count": 13,
     "metadata": {},
     "output_type": "execute_result"
    }
   ],
   "source": [
    "# Read in icesat 2 data as a pandas dataframe\n",
    "beam='gt1l'\n",
    "df03=rd.getATL03(is2_f,beam)\n",
    "df03.head()"
   ]
  },
  {
   "cell_type": "markdown",
   "metadata": {},
   "source": [
    "## Load in Sentinel 2 Data"
   ]
  },
  {
   "cell_type": "code",
   "execution_count": 14,
   "metadata": {},
   "outputs": [],
   "source": [
    "s2_fn = 'IS2_S2/2019085_T11XMK.tif'\n",
    "s2_img = rasterio.open(data_loc+s2_fn)"
   ]
  },
  {
   "cell_type": "code",
   "execution_count": 15,
   "metadata": {},
   "outputs": [
    {
     "data": {
      "application/vnd.jupyter.widget-view+json": {
       "model_id": "a2ec703bce3f4ef89863b69d586f6aa1",
       "version_major": 2,
       "version_minor": 0
      },
      "text/plain": [
       "Canvas(toolbar=Toolbar(toolitems=[('Home', 'Reset original view', 'home', 'home'), ('Back', 'Back to previous …"
      ]
     },
     "metadata": {},
     "output_type": "display_data"
    },
    {
     "data": {
      "text/plain": [
       "<matplotlib.axes._subplots.AxesSubplot at 0x7f86ad64ac50>"
      ]
     },
     "execution_count": 15,
     "metadata": {},
     "output_type": "execute_result"
    }
   ],
   "source": [
    "show(s2_img)"
   ]
  },
  {
   "cell_type": "code",
   "execution_count": 16,
   "metadata": {},
   "outputs": [
    {
     "name": "stdout",
     "output_type": "stream",
     "text": [
      "BoundingBox(left=399960.0, bottom=8890200.0, right=509760.0, top=9000000.0)\n",
      "EPSG:32611\n"
     ]
    }
   ],
   "source": [
    "s2_bounds  = s2_img.bounds\n",
    "print(s2_bounds)\n",
    "print(s2_img.crs)"
   ]
  },
  {
   "cell_type": "code",
   "execution_count": 17,
   "metadata": {},
   "outputs": [
    {
     "name": "stdout",
     "output_type": "stream",
     "text": [
      "POLYGON ((509760 8890200, 509760 9000000, 399960 9000000, 399960 8890200, 509760 8890200))\n"
     ]
    }
   ],
   "source": [
    "from shapely.geometry import box\n",
    "geom = box(*s2_bounds)\n",
    "print(geom.wkt)"
   ]
  },
  {
   "cell_type": "code",
   "execution_count": 23,
   "metadata": {},
   "outputs": [
    {
     "data": {
      "application/vnd.jupyter.widget-view+json": {
       "model_id": "9f874652b7ca4f05852961003b21b656",
       "version_major": 2,
       "version_minor": 0
      },
      "text/plain": [
       "Canvas(toolbar=Toolbar(toolitems=[('Home', 'Reset original view', 'home', 'home'), ('Back', 'Back to previous …"
      ]
     },
     "metadata": {},
     "output_type": "display_data"
    }
   ],
   "source": [
    "var= 'heights' #choose which variable we want to plot\n",
    "\n",
    "## we will want to set colorbar parameters based on the chosen variable\n",
    "vmin=-10\n",
    "vmax=30\n",
    "ticks=np.arange(-20,100,5)\n",
    "\n",
    "# cartopy - need to make figure and set projection first before adding data\n",
    "plt.figure(figsize=(8,8), dpi= 90)\n",
    "ax = plt.axes(projection=ccrs.NorthPolarStereo(central_longitude=0)) # choose polar sterographic for projection\n",
    "ax.coastlines(resolution='50m', color='black', linewidth=1)\n",
    "ax.set_extent([-180, 180, 60, 90], ccrs.PlateCarree())\n",
    "plt.scatter(argo_df['lon'], argo_df['lat'], c= 'k',s=2,transform=ccrs.PlateCarree())\n",
    "plt.scatter(df03['lons'][::1000], df03['lats'][::1000],c=df03[var][::1000], cmap='viridis', vmin=vmin,vmax=vmax,transform=ccrs.PlateCarree())\n",
    "# plt.plot(*geom.exterior.xy, color='black', linewidth=1,transform=ccrs.PlateCarree())\n",
    "plt.plot(*geom.exterior.xy, color='black', linewidth=1,transform=ccrs.UTM(11))\n",
    "ax.set_extent([399960.0, 8890200.0, 509760.0, 9000000.0], transform=ccrs.PlateCarree())\n",
    "plt.colorbar(label=var, shrink=0.5, ticks=ticks,extend='both');"
   ]
  },
  {
   "cell_type": "markdown",
   "metadata": {},
   "source": [
    "# When i have coincident data, I can plot these on top of eachother"
   ]
  },
  {
   "cell_type": "code",
   "execution_count": null,
   "metadata": {},
   "outputs": [],
   "source": [
    "df03.head()"
   ]
  },
  {
   "cell_type": "code",
   "execution_count": null,
   "metadata": {},
   "outputs": [],
   "source": [
    "## create bounding box of interest:\n",
    "lonmin,lonmax,latmin,latmax= [0,60,85,87.5]\n",
    "\n",
    "bbox=(df03['lons']>lonmin)&(df03['lons']<lonmax)&(df03['lats']>latmin)&(df03['lats']<latmax)\n",
    "df_cut=df03[bbox]\n",
    "\n",
    "## converting GPS time to UTC time\n",
    "epoch=is2_f['/ancillary_data/atlas_sdp_gps_epoch'][0]\n",
    "df_cut['time']=Time(epoch+df_cut['dt'],format='gps').utc.datetime\n",
    "\n",
    "## calculate along track distance relative to the beginning of the cut segment\n",
    "# Subtract all along track x-values from first segment\n",
    "df_cut['AT_dist']=df_cut.x-df_cut.x.values[0]\n",
    "\n",
    "df_cut.head()"
   ]
  },
  {
   "cell_type": "code",
   "execution_count": null,
   "metadata": {},
   "outputs": [],
   "source": [
    "plt.subplots(1,1,figsize=(10,4))\n",
    "plt.scatter(df_cut.AT_dist.values[df_cut.conf<3],df_cut.heights.values[df_cut.conf<3],c='r',s=1)\n",
    "plt.scatter(df_cut.AT_dist.values[df_cut.conf>2],df_cut.heights.values[df_cut.conf>2],c='g',s=1)\n",
    "plt.xlabel('alongtrack distance (m)',fontsize=20)\n",
    "plt.ylabel('heights',fontsize=20)\n",
    "# plt.ylim(15,25);\n",
    "plt.xlim(df_cut.AT_dist.values[0],df_cut.AT_dist.values[-1]);"
   ]
  },
  {
   "cell_type": "code",
   "execution_count": null,
   "metadata": {},
   "outputs": [],
   "source": []
  }
 ],
 "metadata": {
  "kernelspec": {
   "display_name": "Python 3",
   "language": "python",
   "name": "python3"
  },
  "language_info": {
   "codemirror_mode": {
    "name": "ipython",
    "version": 3
   },
   "file_extension": ".py",
   "mimetype": "text/x-python",
   "name": "python",
   "nbconvert_exporter": "python",
   "pygments_lexer": "ipython3",
   "version": "3.7.6"
  }
 },
 "nbformat": 4,
 "nbformat_minor": 4
}
