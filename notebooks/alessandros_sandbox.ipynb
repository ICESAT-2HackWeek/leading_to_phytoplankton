{
 "cells": [
  {
   "cell_type": "markdown",
   "metadata": {},
   "source": [
    "# Alessandro's scratch notebook"
   ]
  },
  {
   "cell_type": "markdown",
   "metadata": {},
   "source": [
    "ICESat-2 hackweek final project \n",
    "June 16, 2020  \n",
    "Alessandro Di Bella"
   ]
  },
  {
   "cell_type": "markdown",
   "metadata": {},
   "source": [
    "Install extra python modules to\n",
    "* read polygons from WKT strings\n",
    "* access Sentinel API (we might want to create a virtual environment to avoid doing this every time)"
   ]
  },
  {
   "cell_type": "code",
   "execution_count": 98,
   "metadata": {},
   "outputs": [
    {
     "name": "stdout",
     "output_type": "stream",
     "text": [
      "\u001b[31mERROR: Could not find a version that satisfies the requirement wkt (from versions: none)\u001b[0m\n",
      "\u001b[31mERROR: No matching distribution found for wkt\u001b[0m\n",
      "Requirement already satisfied: sentinelsat in /srv/conda/envs/notebook/lib/python3.7/site-packages (0.14)\n",
      "Requirement already satisfied: requests in /srv/conda/envs/notebook/lib/python3.7/site-packages (from sentinelsat) (2.23.0)\n",
      "Requirement already satisfied: tqdm in /srv/conda/envs/notebook/lib/python3.7/site-packages (from sentinelsat) (4.46.1)\n",
      "Requirement already satisfied: geomet in /srv/conda/envs/notebook/lib/python3.7/site-packages (from sentinelsat) (0.2.1.post1)\n",
      "Requirement already satisfied: six in /srv/conda/envs/notebook/lib/python3.7/site-packages (from sentinelsat) (1.15.0)\n",
      "Requirement already satisfied: html2text in /srv/conda/envs/notebook/lib/python3.7/site-packages (from sentinelsat) (2020.1.16)\n",
      "Requirement already satisfied: geojson>=2 in /srv/conda/envs/notebook/lib/python3.7/site-packages (from sentinelsat) (2.5.0)\n",
      "Requirement already satisfied: click in /srv/conda/envs/notebook/lib/python3.7/site-packages (from sentinelsat) (7.1.2)\n",
      "Requirement already satisfied: chardet<4,>=3.0.2 in /srv/conda/envs/notebook/lib/python3.7/site-packages (from requests->sentinelsat) (3.0.4)\n",
      "Requirement already satisfied: idna<3,>=2.5 in /srv/conda/envs/notebook/lib/python3.7/site-packages (from requests->sentinelsat) (2.9)\n",
      "Requirement already satisfied: certifi>=2017.4.17 in /srv/conda/envs/notebook/lib/python3.7/site-packages (from requests->sentinelsat) (2020.4.5.1)\n",
      "Requirement already satisfied: urllib3!=1.25.0,!=1.25.1,<1.26,>=1.21.1 in /srv/conda/envs/notebook/lib/python3.7/site-packages (from requests->sentinelsat) (1.25.9)\n"
     ]
    }
   ],
   "source": [
    "#!pip install wkt\n",
    "!pip install sentinelsat"
   ]
  },
  {
   "cell_type": "code",
   "execution_count": 100,
   "metadata": {},
   "outputs": [
    {
     "name": "stdin",
     "output_type": "stream",
     "text": [
      "Once deleted, variables cannot be recovered. Proceed (y/[n])?  y\n"
     ]
    }
   ],
   "source": [
    "### Clear workspace\n",
    "%reset"
   ]
  },
  {
   "cell_type": "code",
   "execution_count": 101,
   "metadata": {},
   "outputs": [],
   "source": [
    "### Import modules\n",
    "import numpy as np\n",
    "from sentinelsat import SentinelAPI\n",
    "import shapely.geometry as sg\n",
    "from astropy.time import Time, TimeDelta\n",
    "from tqdm import tqdm\n",
    "import matplotlib.pyplot as plt\n",
    "import h5py, sys, pyproj\n",
    "import readers as rd\n",
    "from icepyx import icesat2data as ipd\n",
    "import cartopy.crs as ccrs\n",
    "import importlib\n",
    "import search_sentinels as ss\n",
    "import warnings\n",
    "warnings.filterwarnings('ignore')\n",
    "\n",
    "### Add path to scripts\n",
    "if '/home/jovyan/leading_to_phytoplankton/scripts' not in sys.path:\n",
    "    sys.path.insert(0, '/home/jovyan/leading_to_phytoplankton/scripts')\n",
    "    \n",
    "### Magic function to enable interactive plotting\n",
    "%matplotlib widget "
   ]
  },
  {
   "cell_type": "code",
   "execution_count": 102,
   "metadata": {},
   "outputs": [],
   "source": [
    "### Define path to sample data\n",
    "data_loc = \"/home/jovyan/shared/leading_to_phytoplankton/\""
   ]
  },
  {
   "cell_type": "code",
   "execution_count": 147,
   "metadata": {},
   "outputs": [],
   "source": [
    "# ### Download IS2 sample data\n",
    "# ## Define search parameters\n",
    "# short_name = 'ATL03'\n",
    "spatial_extent = [-180, 50, 180, 90]\n",
    "# date_range = ['2019-07-26','2019-07-26']\n",
    "# \n",
    "# region_a = ipd.Icesat2Data(short_name, spatial_extent, date_range, \\\n",
    "#                            start_time='21:35:00', end_time='21:36:00', version='002')\n",
    "# \n",
    "# print(region_a.dataset)\n",
    "# print(region_a.dates)\n",
    "# print(region_a.start_time)\n",
    "# print(region_a.end_time)\n",
    "# print(region_a.dataset_version)\n",
    "# print(region_a.spatial_extent)\n",
    "# region_a.visualize_spatial_extent()\n",
    "# region_a.avail_granules(ids=1)\n",
    "# \n",
    "# ## Log in to EarthData\n",
    "# earthdata_uid = 'ing.a.dibella'\n",
    "# email = 'ing.a.dibella@gmail.com'\n",
    "# region_a.earthdata_login(earthdata_uid, email)\n",
    "# \n",
    "# ## Order granule\n",
    "# region_a.download_granules(data_loc)"
   ]
  },
  {
   "cell_type": "code",
   "execution_count": 104,
   "metadata": {},
   "outputs": [
    {
     "name": "stdout",
     "output_type": "stream",
     "text": [
      "0\n",
      "Number of point measurements: 1068028\n"
     ]
    }
   ],
   "source": [
    "## Load IS2 sample data\n",
    "f_atl03 = data_loc + \"processed_ATL03_20190726213326_04400404_002_01.h5\"\n",
    "f = h5py.File(f_atl03, 'r')\n",
    "# check to see if it is forward (1)  or backward (0) orientation to know which beam is strong/weak. \n",
    "# (2 is transition phase- don't use these data)\n",
    "print(f['orbit_info/sc_orient'][0])\n",
    "\n",
    "beam = 'gt2l'\n",
    "df03 = rd.getATL03(f,beam)\n",
    "df03.head()\n",
    "print(\"Number of point measurements:\", len(df03))"
   ]
  },
  {
   "cell_type": "code",
   "execution_count": 105,
   "metadata": {},
   "outputs": [
    {
     "name": "stdout",
     "output_type": "stream",
     "text": [
      "Number of point measurements: 10681\n"
     ]
    }
   ],
   "source": [
    "### Downsample ATL03 to speed up test\n",
    "df03 = df03[::100]\n",
    "print(\"Number of point measurements:\", len(df03))"
   ]
  },
  {
   "cell_type": "markdown",
   "metadata": {},
   "source": [
    "Pull in some extra ATL03 params and convert GPS to UTC time"
   ]
  },
  {
   "cell_type": "code",
   "execution_count": 106,
   "metadata": {},
   "outputs": [
    {
     "data": {
      "text/html": [
       "<div>\n",
       "<style scoped>\n",
       "    .dataframe tbody tr th:only-of-type {\n",
       "        vertical-align: middle;\n",
       "    }\n",
       "\n",
       "    .dataframe tbody tr th {\n",
       "        vertical-align: top;\n",
       "    }\n",
       "\n",
       "    .dataframe thead th {\n",
       "        text-align: right;\n",
       "    }\n",
       "</style>\n",
       "<table border=\"1\" class=\"dataframe\">\n",
       "  <thead>\n",
       "    <tr style=\"text-align: right;\">\n",
       "      <th></th>\n",
       "      <th>lats</th>\n",
       "      <th>lons</th>\n",
       "      <th>x</th>\n",
       "      <th>y</th>\n",
       "      <th>heights</th>\n",
       "      <th>dt</th>\n",
       "      <th>conf</th>\n",
       "      <th>time</th>\n",
       "      <th>AT_dist</th>\n",
       "      <th>orbit_number</th>\n",
       "    </tr>\n",
       "  </thead>\n",
       "  <tbody>\n",
       "    <tr>\n",
       "      <th>0</th>\n",
       "      <td>85.679424</td>\n",
       "      <td>37.960135</td>\n",
       "      <td>9606197.0</td>\n",
       "      <td>46.319935</td>\n",
       "      <td>20.501621</td>\n",
       "      <td>4.941210e+07</td>\n",
       "      <td>2</td>\n",
       "      <td>2019-07-26 21:35:00.001129</td>\n",
       "      <td>0.0</td>\n",
       "      <td>4802</td>\n",
       "    </tr>\n",
       "    <tr>\n",
       "      <th>100</th>\n",
       "      <td>85.680423</td>\n",
       "      <td>37.953167</td>\n",
       "      <td>9606323.0</td>\n",
       "      <td>46.358212</td>\n",
       "      <td>-2.857844</td>\n",
       "      <td>4.941210e+07</td>\n",
       "      <td>0</td>\n",
       "      <td>2019-07-26 21:35:00.018729</td>\n",
       "      <td>126.0</td>\n",
       "      <td>4802</td>\n",
       "    </tr>\n",
       "    <tr>\n",
       "      <th>200</th>\n",
       "      <td>85.681324</td>\n",
       "      <td>37.946888</td>\n",
       "      <td>9606437.0</td>\n",
       "      <td>46.305145</td>\n",
       "      <td>-2.405804</td>\n",
       "      <td>4.941210e+07</td>\n",
       "      <td>0</td>\n",
       "      <td>2019-07-26 21:35:00.034829</td>\n",
       "      <td>240.0</td>\n",
       "      <td>4802</td>\n",
       "    </tr>\n",
       "    <tr>\n",
       "      <th>300</th>\n",
       "      <td>85.682385</td>\n",
       "      <td>37.939535</td>\n",
       "      <td>9606570.0</td>\n",
       "      <td>45.949356</td>\n",
       "      <td>6.780809</td>\n",
       "      <td>4.941210e+07</td>\n",
       "      <td>0</td>\n",
       "      <td>2019-07-26 21:35:00.053729</td>\n",
       "      <td>373.0</td>\n",
       "      <td>4802</td>\n",
       "    </tr>\n",
       "    <tr>\n",
       "      <th>400</th>\n",
       "      <td>85.683360</td>\n",
       "      <td>37.932681</td>\n",
       "      <td>9606694.0</td>\n",
       "      <td>46.271637</td>\n",
       "      <td>16.332500</td>\n",
       "      <td>4.941210e+07</td>\n",
       "      <td>0</td>\n",
       "      <td>2019-07-26 21:35:00.071029</td>\n",
       "      <td>497.0</td>\n",
       "      <td>4802</td>\n",
       "    </tr>\n",
       "  </tbody>\n",
       "</table>\n",
       "</div>"
      ],
      "text/plain": [
       "          lats       lons          x          y    heights            dt  \\\n",
       "0    85.679424  37.960135  9606197.0  46.319935  20.501621  4.941210e+07   \n",
       "100  85.680423  37.953167  9606323.0  46.358212  -2.857844  4.941210e+07   \n",
       "200  85.681324  37.946888  9606437.0  46.305145  -2.405804  4.941210e+07   \n",
       "300  85.682385  37.939535  9606570.0  45.949356   6.780809  4.941210e+07   \n",
       "400  85.683360  37.932681  9606694.0  46.271637  16.332500  4.941210e+07   \n",
       "\n",
       "     conf                       time  AT_dist  orbit_number  \n",
       "0       2 2019-07-26 21:35:00.001129      0.0          4802  \n",
       "100     0 2019-07-26 21:35:00.018729    126.0          4802  \n",
       "200     0 2019-07-26 21:35:00.034829    240.0          4802  \n",
       "300     0 2019-07-26 21:35:00.053729    373.0          4802  \n",
       "400     0 2019-07-26 21:35:00.071029    497.0          4802  "
      ]
     },
     "execution_count": 106,
     "metadata": {},
     "output_type": "execute_result"
    }
   ],
   "source": [
    "### Convert GPS time to UTC time\n",
    "epoch = f['/ancillary_data/atlas_sdp_gps_epoch'][0]\n",
    "df03['time'] = Time(epoch + df03['dt'],format='gps').utc.datetime\n",
    "\n",
    "### Calculate along track distance relative to the beginning of the cut segment\n",
    "df03['AT_dist'] = df03.x - df03.x.values[0]\n",
    "\n",
    "### Read orbit number\n",
    "df03['orbit_number'] = [f['/orbit_info/orbit_number'][0]] * len(df03)\n",
    "df03.head()"
   ]
  },
  {
   "cell_type": "code",
   "execution_count": 107,
   "metadata": {},
   "outputs": [
    {
     "data": {
      "application/vnd.jupyter.widget-view+json": {
       "model_id": "b510ee892f5c45a0862ec84f56f391a1",
       "version_major": 2,
       "version_minor": 0
      },
      "text/plain": [
       "Canvas(toolbar=Toolbar(toolitems=[('Home', 'Reset original view', 'home', 'home'), ('Back', 'Back to previous …"
      ]
     },
     "metadata": {},
     "output_type": "display_data"
    },
    {
     "data": {
      "text/plain": [
       "<matplotlib.colorbar.Colorbar at 0x7f47d8d89290>"
      ]
     },
     "execution_count": 107,
     "metadata": {},
     "output_type": "execute_result"
    }
   ],
   "source": [
    "### Plot data\n",
    "var = 'heights' #choose which variable we want to plot\n",
    "vmin = -10\n",
    "vmax = 30\n",
    "ticks = np.arange(-20,100,5)\n",
    "\n",
    "plt.figure(figsize=(8,8), dpi= 90)\n",
    "ax = plt.axes(projection=ccrs.NorthPolarStereo(central_longitude=0)) # choose polar sterographic for projection\n",
    "ax.coastlines(resolution='50m', color='black', linewidth=1)\n",
    "ax.set_extent([-180, 180, 60, 90], ccrs.PlateCarree())\n",
    "# plt.scatter(df03['lons'][::1000], df03['lats'][::1000],c=df03[var][::1000], cmap='viridis', vmin=vmin,vmax=vmax,transform=ccrs.PlateCarree())\n",
    "plt.scatter(df03['lons'], df03['lats'], c=df03[var], s=1, cmap='viridis', vmin=vmin,vmax=vmax,transform=ccrs.PlateCarree())\n",
    "plt.colorbar(label=var, shrink=0.5, ticks=ticks,extend='both')\n"
   ]
  },
  {
   "cell_type": "code",
   "execution_count": 108,
   "metadata": {},
   "outputs": [
    {
     "name": "stdout",
     "output_type": "stream",
     "text": [
      "Cycle_number: 04\n",
      "RGT number: 0440\n"
     ]
    }
   ],
   "source": [
    "### Random tests to create fix-length strings\n",
    "cycle = \"{:0>2}\".format(f['orbit_info/cycle_number'][0])\n",
    "rgt = \"{:0>4}\".format(f['orbit_info/rgt'][0])\n",
    "print(\"Cycle_number:\", cycle)\n",
    "print(\"RGT number:\", rgt)"
   ]
  },
  {
   "cell_type": "code",
   "execution_count": 152,
   "metadata": {},
   "outputs": [
    {
     "data": {
      "text/plain": [
       "<module 'search_sentinels' from '/home/jovyan/leading_to_phytoplankton/scripts/search_sentinels.py'>"
      ]
     },
     "execution_count": 152,
     "metadata": {},
     "output_type": "execute_result"
    }
   ],
   "source": [
    "importlib.reload(ss)"
   ]
  },
  {
   "cell_type": "code",
   "execution_count": 138,
   "metadata": {},
   "outputs": [],
   "source": [
    "type(df03['time'][0])\n",
    "t_is2       = Time(df03['time'], scale='utc')\n",
    "dtt         = TimeDelta(3600 * 1, format='sec')\n",
    "t_is2_start = min(t_is2) - dtt\n",
    "t_is2_stop  = max(t_is2) + dtt"
   ]
  },
  {
   "cell_type": "code",
   "execution_count": 157,
   "metadata": {},
   "outputs": [
    {
     "name": "stdout",
     "output_type": "stream",
     "text": [
      "Creating AOI polygon...\n",
      "Selecting orbit data inside AOI...\n",
      "N. of orbits/points inside AOI: 1/10681\n",
      "Query for metadata...\n"
     ]
    },
    {
     "name": "stderr",
     "output_type": "stream",
     "text": [
      "Querying products: 100%|██████████| 622/622 [00:09<00:00, 67.86 products/s]\n",
      "0it [00:00, ?it/s]"
     ]
    },
    {
     "name": "stdout",
     "output_type": "stream",
     "text": [
      "N. of total images: 622\n",
      "Converting time to astropy objects...\n",
      "Looping over orbits to find intersections within 3h...\n"
     ]
    },
    {
     "name": "stderr",
     "output_type": "stream",
     "text": [
      "1it [00:02,  2.66s/it]\n",
      "1it [00:00, 75.44it/s]"
     ]
    },
    {
     "name": "stdout",
     "output_type": "stream",
     "text": [
      "N. of images within 3h: 622\n",
      "Creating images footprint polygons...\n",
      "Looping over orbits to find intersections...\n",
      "N. of total intersections: 0\n"
     ]
    },
    {
     "name": "stderr",
     "output_type": "stream",
     "text": [
      "\n"
     ]
    }
   ],
   "source": [
    "out = ss.search_sentinels(df03, [-100, 70, 10, 90], dt=3)"
   ]
  },
  {
   "cell_type": "code",
   "execution_count": 154,
   "metadata": {},
   "outputs": [
    {
     "data": {
      "text/plain": [
       "([], [], [], [], [], {})"
      ]
     },
     "execution_count": 154,
     "metadata": {},
     "output_type": "execute_result"
    }
   ],
   "source": [
    "out"
   ]
  }
 ],
 "metadata": {
  "kernelspec": {
   "display_name": "Python [conda env:notebook] *",
   "language": "python",
   "name": "conda-env-notebook-py"
  },
  "language_info": {
   "codemirror_mode": {
    "name": "ipython",
    "version": 3
   },
   "file_extension": ".py",
   "mimetype": "text/x-python",
   "name": "python",
   "nbconvert_exporter": "python",
   "pygments_lexer": "ipython3",
   "version": "3.7.6"
  }
 },
 "nbformat": 4,
 "nbformat_minor": 4
}
